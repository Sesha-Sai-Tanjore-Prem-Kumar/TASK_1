{
 "cells": [
  {
   "cell_type": "code",
   "execution_count": 70,
   "id": "256e30cc",
   "metadata": {},
   "outputs": [
    {
     "name": "stdout",
     "output_type": "stream",
     "text": [
      "Hello! \n",
      " Would you like to register(R) or login(L)?R\n",
      "Please enter your email ID: \n",
      "\n",
      "stefen@gmail.com\n",
      "Enter your password: \n",
      "\n",
      "stef$123\n"
     ]
    }
   ],
   "source": [
    "import re\n",
    "def choice(userchoice = None):\n",
    "    #print(\"Hello! \\n Would you like to register(R) or login(L)?\")\n",
    "    userchoice = input(\"Hello! \\n Would you like to register(R) or login(L)\")\n",
    "    if userchoice == \"R\":\n",
    "        return register()\n",
    "    elif userchoice == \"L\":\n",
    "        return login()\n",
    "    else:\n",
    "        print(\"Enter a valid choice\")\n",
    "choice()"
   ]
  },
  {
   "cell_type": "code",
   "execution_count": 85,
   "id": "ac5e0363",
   "metadata": {},
   "outputs": [
    {
     "name": "stdout",
     "output_type": "stream",
     "text": [
      "Please enter your email ID: \n",
      "\n",
      "rebeccah@gmail.com\n",
      "Enter your password: \n",
      "\n",
      "reb$123\n"
     ]
    }
   ],
   "source": [
    "def register():\n",
    "    user_db = open(\"User's_database.txt\", \"r\")\n",
    "    info = user_db.read()\n",
    "    print(\"Please enter your email ID: \\n\") \n",
    "    valid_email_pattern = (\"^[a-zA-Z]+@[a-z]+\\.[a-z]+$\")\n",
    "    user_email = input()\n",
    "\n",
    "    if re.match(valid_email_pattern, user_email):\n",
    "        pass\n",
    "    else:\n",
    "        print(\"INCORRECT EMAIL ID!!!Enter a valid email address\")\n",
    "\n",
    "        \n",
    "    print(\"Enter your password: \\n\")\n",
    "    valid_password_pattern = (\"^[a-zA-z0-9]+[a-zA-Z0-9!£$%^&*@()+]+$\")\n",
    "    user_password = input()\n",
    "    #min_password_length = 6\n",
    "    #max_password_length = 15\n",
    "    \n",
    "    if re.match(valid_password_pattern, user_password):\n",
    "        if len(user_password)>5 and len(user_password)<16:\n",
    "            pass\n",
    "        else:\n",
    "            print(\"Password length not enough\")\n",
    "        user_db = open(\"User's_database.txt\", \"a\")\n",
    "        #user_db.write(user_email+\", \"+user_password+\"\\n\")\n",
    "        user_db.write(f\"Email_ID : {user_email}, Password : {user_password} \\n\")\n",
    "    else:\n",
    "        print(\"INCORRECT!!Enter a valid password\")\n",
    "        \n",
    "    \n",
    "#     registered_emails = []\n",
    "#     registered_passwords = []\n",
    "#     for i in user_db:\n",
    "#         a,b = i.split(\", \")\n",
    "#         registered_emails.append(a)\n",
    "#         registered_passwords.append(b)\n",
    "#     data = dict(zip(registered_emails,registered_passwords))\n",
    "#     print(data)\n",
    "    \n",
    "register()"
   ]
  },
  {
   "cell_type": "code",
   "execution_count": 88,
   "id": "8dba3fa7",
   "metadata": {},
   "outputs": [
    {
     "name": "stdout",
     "output_type": "stream",
     "text": [
      "please enter your registered email ID and password: \n",
      "stefan@gmail.com\n",
      "ga@123\n",
      "password you have entered is incorrect\n"
     ]
    }
   ],
   "source": [
    "def login():\n",
    "    \n",
    "    print(\"please enter your registered email ID and password: \")\n",
    "#   valid_email_pattern = (\"^[a-zA-Z]+@[a-z]+\\.[a-z]+$\")\n",
    "    user_email = str(input())\n",
    "    user_password = str(input())\n",
    "    user_db = open(\"User's_database.txt\", \"r\")\n",
    "    info = user_db.read()\n",
    "    #print(\"%%%\", info)\n",
    "    #info = info.split()\n",
    "    #print(\"!!!!\", info)\n",
    "    if user_email in info:\n",
    "        \n",
    "        x = info.split()\n",
    "        a = len(x)\n",
    "        for i in range(0,a):\n",
    "            if x[i] == user_password:\n",
    "                i+=1\n",
    "                print(\"Welcome back\") #\"Welcome back\"\n",
    "                break\n",
    "        else:\n",
    "            print(\"password you have entered is incorrect\")\n",
    "            \n",
    "    else:\n",
    "        return \"user not found. Please go head and register yourself\"\n",
    "        return register()\n",
    "        \n",
    "            \n",
    "    \n",
    "#     if re.match(valid_email_pattern, user_email):\n",
    "#         pass\n",
    "#     else:\n",
    "#         print(\"INCORRECT EMAIL ID!!!Enter a valid email address\")\n",
    "#     password = str(input(\"Password: \"))\n",
    "#     f = open(\"User_Data.txt\",'r')\n",
    "#     info = f.read()\n",
    "#     info = info.split()\n",
    "#     if name in info:\n",
    "#         index = info.index(name) + 1\n",
    "#         usr_password = info[index]\n",
    "#         if usr_password == password:\n",
    "#             return \"Welcome Back, \" + name\n",
    "#         else:\n",
    "#             return \"Password entered is wrong\"\n",
    "#     else:\n",
    "#         return \"Name not found. Please Sign Up.\"\n",
    "#     pass\n",
    "login()\n",
    "\n",
    "#print(choice())"
   ]
  },
  {
   "cell_type": "code",
   "execution_count": 89,
   "id": "62455c2c",
   "metadata": {},
   "outputs": [],
   "source": [
    "# def password_reset():\n",
    "#     user_db = open(\"User's_database.txt\", \"r\")\n",
    "#     #print(\"Did you forget the password? If yes, press 'Y'\")\n",
    "# #     user_forgot_password = input(\"Did you forget the password? If yes, press 'Y' \\n\")\n",
    "# #     if user_forgot_password == \"Y\":\n",
    "# #         pass\n",
    "# #     else:\n",
    "# #         print(\"Please check and try again\")\n",
    "# #         break\n",
    "#     user_email = str(input(\"PLease enter your existing email: \\n\"))\n",
    "#     details = user_db.read()\n",
    "#     if user_email in details:\n",
    "#         x = details.split()\n",
    "#         a = len(x)\n",
    "#         #print(a)\n",
    "#         for i in range(0,a):\n",
    "#             if x[i] == user_email:\n",
    "#                 i+=1\n",
    "#                 print()\n",
    "# #         for user_email in details:\n",
    "# #             print(user_email)\n",
    "\n",
    "        \n",
    "# forget_password()"
   ]
  },
  {
   "cell_type": "code",
   "execution_count": null,
   "id": "7d45206e",
   "metadata": {},
   "outputs": [],
   "source": []
  }
 ],
 "metadata": {
  "kernelspec": {
   "display_name": "Python 3",
   "language": "python",
   "name": "python3"
  },
  "language_info": {
   "codemirror_mode": {
    "name": "ipython",
    "version": 3
   },
   "file_extension": ".py",
   "mimetype": "text/x-python",
   "name": "python",
   "nbconvert_exporter": "python",
   "pygments_lexer": "ipython3",
   "version": "3.8.8"
  }
 },
 "nbformat": 4,
 "nbformat_minor": 5
}
